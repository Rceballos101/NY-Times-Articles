{
 "cells": [
  {
   "cell_type": "code",
   "execution_count": 1,
   "metadata": {},
   "outputs": [],
   "source": [
    "# https://developer.nytimes.com/apis\n",
    "# https://developer.nytimes.com/docs/articlesearch-product/1/overview\n",
    "# www.lucenetutorial.com/lucene-query-syntax.html"
   ]
  },
  {
   "cell_type": "code",
   "execution_count": 2,
   "metadata": {},
   "outputs": [],
   "source": [
    "api_key='api-key=zBxlhvG69zXIH0BooIEibFf56eJpv5Ny'\n",
    "api_site = \"https://api.nytimes.com/svc/search/v2/articlesearch.json?\""
   ]
  },
  {
   "cell_type": "code",
   "execution_count": 3,
   "metadata": {},
   "outputs": [],
   "source": [
    "#filter for politics\n",
    "desk = \"fq=news_desk:\"\n",
    "section = 'fq=section_name:'\n",
    "# pub_date: Timestamp (YYYY-MM-DD)\n",
    "dates = \"begin_date=20160101&end_date=20181231\""
   ]
  },
  {
   "cell_type": "code",
   "execution_count": 6,
   "metadata": {},
   "outputs": [],
   "source": [
    "# Section Name Values\n",
    "sectionNV = open('Section Name Values.txt','r')\n",
    "sectionNV = sectionNV.readlines()\n",
    "\n",
    "# News Desk Values\n",
    "newsDesk = open('News Desk Values.txt','r')\n",
    "newsDesk = newsDesk.readlines()"
   ]
  },
  {
   "cell_type": "code",
   "execution_count": null,
   "metadata": {},
   "outputs": [],
   "source": []
  },
  {
   "cell_type": "code",
   "execution_count": 5,
   "metadata": {},
   "outputs": [],
   "source": [
    "import time\n",
    "import urllib.request\n",
    "import json"
   ]
  },
  {
   "cell_type": "markdown",
   "metadata": {},
   "source": [
    "The Article Search API returns a max of 10 results at a time. \n",
    "The meta node in the response contains the total number of matches (\"hits\") and the current offset. \n",
    "Use the page query parameter to paginate thru results (page=0 for results 1-10, page=1 for 11-20, ...). \n",
    "You can paginate thru up to 100 pages (1,000 results). If you get too many results try filtering by date range."
   ]
  },
  {
   "cell_type": "code",
   "execution_count": 25,
   "metadata": {},
   "outputs": [
    {
     "name": "stdout",
     "output_type": "stream",
     "text": [
      "Before: Fri Mar 22 11:24:07 2019\n",
      "Expected waiting time 11.0 mins\n",
      "\n",
      "https://api.nytimes.com/svc/search/v2/articlesearch.json?fq=news_desk:Adventure Sports&begin_date=20160101&end_date=20181231&sort=oldest&api-key=zBxlhvG69zXIH0BooIEibFf56eJpv5Ny\n",
      "https://api.nytimes.com/svc/search/v2/articlesearch.json?fq=news_desk:Arts & Leisure&begin_date=20160101&end_date=20181231&sort=oldest&api-key=zBxlhvG69zXIH0BooIEibFf56eJpv5Ny\n",
      "https://api.nytimes.com/svc/search/v2/articlesearch.json?fq=news_desk:Arts&begin_date=20160101&end_date=20181231&sort=oldest&api-key=zBxlhvG69zXIH0BooIEibFf56eJpv5Ny\n",
      "https://api.nytimes.com/svc/search/v2/articlesearch.json?fq=news_desk:Automobiles&begin_date=20160101&end_date=20181231&sort=oldest&api-key=zBxlhvG69zXIH0BooIEibFf56eJpv5Ny\n",
      "https://api.nytimes.com/svc/search/v2/articlesearch.json?fq=news_desk:Blogs&begin_date=20160101&end_date=20181231&sort=oldest&api-key=zBxlhvG69zXIH0BooIEibFf56eJpv5Ny\n",
      "https://api.nytimes.com/svc/search/v2/articlesearch.json?fq=news_desk:Books&begin_date=20160101&end_date=20181231&sort=oldest&api-key=zBxlhvG69zXIH0BooIEibFf56eJpv5Ny\n",
      "https://api.nytimes.com/svc/search/v2/articlesearch.json?fq=news_desk:Booming&begin_date=20160101&end_date=20181231&sort=oldest&api-key=zBxlhvG69zXIH0BooIEibFf56eJpv5Ny\n",
      "https://api.nytimes.com/svc/search/v2/articlesearch.json?fq=news_desk:Business Day&begin_date=20160101&end_date=20181231&sort=oldest&api-key=zBxlhvG69zXIH0BooIEibFf56eJpv5Ny\n",
      "https://api.nytimes.com/svc/search/v2/articlesearch.json?fq=news_desk:Business&begin_date=20160101&end_date=20181231&sort=oldest&api-key=zBxlhvG69zXIH0BooIEibFf56eJpv5Ny\n",
      "https://api.nytimes.com/svc/search/v2/articlesearch.json?fq=news_desk:Cars&begin_date=20160101&end_date=20181231&sort=oldest&api-key=zBxlhvG69zXIH0BooIEibFf56eJpv5Ny\n",
      "https://api.nytimes.com/svc/search/v2/articlesearch.json?fq=news_desk:Circuits&begin_date=20160101&end_date=20181231&sort=oldest&api-key=zBxlhvG69zXIH0BooIEibFf56eJpv5Ny\n",
      "https://api.nytimes.com/svc/search/v2/articlesearch.json?fq=news_desk:Classifieds&begin_date=20160101&end_date=20181231&sort=oldest&api-key=zBxlhvG69zXIH0BooIEibFf56eJpv5Ny\n",
      "https://api.nytimes.com/svc/search/v2/articlesearch.json?fq=news_desk:Connecticut&begin_date=20160101&end_date=20181231&sort=oldest&api-key=zBxlhvG69zXIH0BooIEibFf56eJpv5Ny\n",
      "https://api.nytimes.com/svc/search/v2/articlesearch.json?fq=news_desk:Crosswords & Games&begin_date=20160101&end_date=20181231&sort=oldest&api-key=zBxlhvG69zXIH0BooIEibFf56eJpv5Ny\n",
      "https://api.nytimes.com/svc/search/v2/articlesearch.json?fq=news_desk:Culture&begin_date=20160101&end_date=20181231&sort=oldest&api-key=zBxlhvG69zXIH0BooIEibFf56eJpv5Ny\n",
      "https://api.nytimes.com/svc/search/v2/articlesearch.json?fq=news_desk:DealBook&begin_date=20160101&end_date=20181231&sort=oldest&api-key=zBxlhvG69zXIH0BooIEibFf56eJpv5Ny\n",
      "https://api.nytimes.com/svc/search/v2/articlesearch.json?fq=news_desk:Dining&begin_date=20160101&end_date=20181231&sort=oldest&api-key=zBxlhvG69zXIH0BooIEibFf56eJpv5Ny\n",
      "https://api.nytimes.com/svc/search/v2/articlesearch.json?fq=news_desk:Editorial&begin_date=20160101&end_date=20181231&sort=oldest&api-key=zBxlhvG69zXIH0BooIEibFf56eJpv5Ny\n",
      "https://api.nytimes.com/svc/search/v2/articlesearch.json?fq=news_desk:Education&begin_date=20160101&end_date=20181231&sort=oldest&api-key=zBxlhvG69zXIH0BooIEibFf56eJpv5Ny\n",
      "https://api.nytimes.com/svc/search/v2/articlesearch.json?fq=news_desk:Energy&begin_date=20160101&end_date=20181231&sort=oldest&api-key=zBxlhvG69zXIH0BooIEibFf56eJpv5Ny\n",
      "https://api.nytimes.com/svc/search/v2/articlesearch.json?fq=news_desk:Entrepreneurs&begin_date=20160101&end_date=20181231&sort=oldest&api-key=zBxlhvG69zXIH0BooIEibFf56eJpv5Ny\n",
      "https://api.nytimes.com/svc/search/v2/articlesearch.json?fq=news_desk:Environment&begin_date=20160101&end_date=20181231&sort=oldest&api-key=zBxlhvG69zXIH0BooIEibFf56eJpv5Ny\n",
      "https://api.nytimes.com/svc/search/v2/articlesearch.json?fq=news_desk:Escapes&begin_date=20160101&end_date=20181231&sort=oldest&api-key=zBxlhvG69zXIH0BooIEibFf56eJpv5Ny\n",
      "https://api.nytimes.com/svc/search/v2/articlesearch.json?fq=news_desk:Fashion & Style&begin_date=20160101&end_date=20181231&sort=oldest&api-key=zBxlhvG69zXIH0BooIEibFf56eJpv5Ny\n",
      "https://api.nytimes.com/svc/search/v2/articlesearch.json?fq=news_desk:Fashion&begin_date=20160101&end_date=20181231&sort=oldest&api-key=zBxlhvG69zXIH0BooIEibFf56eJpv5Ny\n",
      "https://api.nytimes.com/svc/search/v2/articlesearch.json?fq=news_desk:Favorites&begin_date=20160101&end_date=20181231&sort=oldest&api-key=zBxlhvG69zXIH0BooIEibFf56eJpv5Ny\n",
      "https://api.nytimes.com/svc/search/v2/articlesearch.json?fq=news_desk:Financial&begin_date=20160101&end_date=20181231&sort=oldest&api-key=zBxlhvG69zXIH0BooIEibFf56eJpv5Ny\n",
      "https://api.nytimes.com/svc/search/v2/articlesearch.json?fq=news_desk:Flight&begin_date=20160101&end_date=20181231&sort=oldest&api-key=zBxlhvG69zXIH0BooIEibFf56eJpv5Ny\n",
      "https://api.nytimes.com/svc/search/v2/articlesearch.json?fq=news_desk:Food&begin_date=20160101&end_date=20181231&sort=oldest&api-key=zBxlhvG69zXIH0BooIEibFf56eJpv5Ny\n",
      "https://api.nytimes.com/svc/search/v2/articlesearch.json?fq=news_desk:Foreign&begin_date=20160101&end_date=20181231&sort=oldest&api-key=zBxlhvG69zXIH0BooIEibFf56eJpv5Ny\n",
      "https://api.nytimes.com/svc/search/v2/articlesearch.json?fq=news_desk:Generations&begin_date=20160101&end_date=20181231&sort=oldest&api-key=zBxlhvG69zXIH0BooIEibFf56eJpv5Ny\n",
      "https://api.nytimes.com/svc/search/v2/articlesearch.json?fq=news_desk:Giving&begin_date=20160101&end_date=20181231&sort=oldest&api-key=zBxlhvG69zXIH0BooIEibFf56eJpv5Ny\n",
      "https://api.nytimes.com/svc/search/v2/articlesearch.json?fq=news_desk:Global%20Home&begin_date=20160101&end_date=20181231&sort=oldest&api-key=zBxlhvG69zXIH0BooIEibFf56eJpv5Ny\n",
      "https://api.nytimes.com/svc/search/v2/articlesearch.json?fq=news_desk:Health & Fitness&begin_date=20160101&end_date=20181231&sort=oldest&api-key=zBxlhvG69zXIH0BooIEibFf56eJpv5Ny\n",
      "https://api.nytimes.com/svc/search/v2/articlesearch.json?fq=news_desk:Health&begin_date=20160101&end_date=20181231&sort=oldest&api-key=zBxlhvG69zXIH0BooIEibFf56eJpv5Ny\n",
      "https://api.nytimes.com/svc/search/v2/articlesearch.json?fq=news_desk:Home & Garden&begin_date=20160101&end_date=20181231&sort=oldest&api-key=zBxlhvG69zXIH0BooIEibFf56eJpv5Ny\n",
      "https://api.nytimes.com/svc/search/v2/articlesearch.json?fq=news_desk:Home&begin_date=20160101&end_date=20181231&sort=oldest&api-key=zBxlhvG69zXIH0BooIEibFf56eJpv5Ny\n",
      "https://api.nytimes.com/svc/search/v2/articlesearch.json?fq=news_desk:Jobs&begin_date=20160101&end_date=20181231&sort=oldest&api-key=zBxlhvG69zXIH0BooIEibFf56eJpv5Ny\n",
      "https://api.nytimes.com/svc/search/v2/articlesearch.json?fq=news_desk:Key&begin_date=20160101&end_date=20181231&sort=oldest&api-key=zBxlhvG69zXIH0BooIEibFf56eJpv5Ny\n",
      "https://api.nytimes.com/svc/search/v2/articlesearch.json?fq=news_desk:Letters&begin_date=20160101&end_date=20181231&sort=oldest&api-key=zBxlhvG69zXIH0BooIEibFf56eJpv5Ny\n",
      "https://api.nytimes.com/svc/search/v2/articlesearch.json?fq=news_desk:Long Island&begin_date=20160101&end_date=20181231&sort=oldest&api-key=zBxlhvG69zXIH0BooIEibFf56eJpv5Ny\n",
      "https://api.nytimes.com/svc/search/v2/articlesearch.json?fq=news_desk:Magazine&begin_date=20160101&end_date=20181231&sort=oldest&api-key=zBxlhvG69zXIH0BooIEibFf56eJpv5Ny\n",
      "https://api.nytimes.com/svc/search/v2/articlesearch.json?fq=news_desk:Market Place&begin_date=20160101&end_date=20181231&sort=oldest&api-key=zBxlhvG69zXIH0BooIEibFf56eJpv5Ny\n",
      "https://api.nytimes.com/svc/search/v2/articlesearch.json?fq=news_desk:Media&begin_date=20160101&end_date=20181231&sort=oldest&api-key=zBxlhvG69zXIH0BooIEibFf56eJpv5Ny\n",
      "https://api.nytimes.com/svc/search/v2/articlesearch.json?fq=news_desk:Men%27s%20Health&begin_date=20160101&end_date=20181231&sort=oldest&api-key=zBxlhvG69zXIH0BooIEibFf56eJpv5Ny\n",
      "https://api.nytimes.com/svc/search/v2/articlesearch.json?fq=news_desk:Metro&begin_date=20160101&end_date=20181231&sort=oldest&api-key=zBxlhvG69zXIH0BooIEibFf56eJpv5Ny\n",
      "https://api.nytimes.com/svc/search/v2/articlesearch.json?fq=news_desk:Metropolitan&begin_date=20160101&end_date=20181231&sort=oldest&api-key=zBxlhvG69zXIH0BooIEibFf56eJpv5Ny\n",
      "https://api.nytimes.com/svc/search/v2/articlesearch.json?fq=news_desk:Movies&begin_date=20160101&end_date=20181231&sort=oldest&api-key=zBxlhvG69zXIH0BooIEibFf56eJpv5Ny\n"
     ]
    },
    {
     "name": "stdout",
     "output_type": "stream",
     "text": [
      "https://api.nytimes.com/svc/search/v2/articlesearch.json?fq=news_desk:Museums&begin_date=20160101&end_date=20181231&sort=oldest&api-key=zBxlhvG69zXIH0BooIEibFf56eJpv5Ny\n",
      "https://api.nytimes.com/svc/search/v2/articlesearch.json?fq=news_desk:National&begin_date=20160101&end_date=20181231&sort=oldest&api-key=zBxlhvG69zXIH0BooIEibFf56eJpv5Ny\n",
      "https://api.nytimes.com/svc/search/v2/articlesearch.json?fq=news_desk:Nesting&begin_date=20160101&end_date=20181231&sort=oldest&api-key=zBxlhvG69zXIH0BooIEibFf56eJpv5Ny\n",
      "https://api.nytimes.com/svc/search/v2/articlesearch.json?fq=news_desk:Obits&begin_date=20160101&end_date=20181231&sort=oldest&api-key=zBxlhvG69zXIH0BooIEibFf56eJpv5Ny\n",
      "https://api.nytimes.com/svc/search/v2/articlesearch.json?fq=news_desk:Obituaries&begin_date=20160101&end_date=20181231&sort=oldest&api-key=zBxlhvG69zXIH0BooIEibFf56eJpv5Ny\n",
      "https://api.nytimes.com/svc/search/v2/articlesearch.json?fq=news_desk:Obituary&begin_date=20160101&end_date=20181231&sort=oldest&api-key=zBxlhvG69zXIH0BooIEibFf56eJpv5Ny\n",
      "https://api.nytimes.com/svc/search/v2/articlesearch.json?fq=news_desk:OpEd&begin_date=20160101&end_date=20181231&sort=oldest&api-key=zBxlhvG69zXIH0BooIEibFf56eJpv5Ny\n",
      "https://api.nytimes.com/svc/search/v2/articlesearch.json?fq=news_desk:Opinion&begin_date=20160101&end_date=20181231&sort=oldest&api-key=zBxlhvG69zXIH0BooIEibFf56eJpv5Ny\n",
      "https://api.nytimes.com/svc/search/v2/articlesearch.json?fq=news_desk:Outlook&begin_date=20160101&end_date=20181231&sort=oldest&api-key=zBxlhvG69zXIH0BooIEibFf56eJpv5Ny\n",
      "https://api.nytimes.com/svc/search/v2/articlesearch.json?fq=news_desk:Personal Investing&begin_date=20160101&end_date=20181231&sort=oldest&api-key=zBxlhvG69zXIH0BooIEibFf56eJpv5Ny\n",
      "https://api.nytimes.com/svc/search/v2/articlesearch.json?fq=news_desk:Personal Tech&begin_date=20160101&end_date=20181231&sort=oldest&api-key=zBxlhvG69zXIH0BooIEibFf56eJpv5Ny\n",
      "https://api.nytimes.com/svc/search/v2/articlesearch.json?fq=news_desk:Play&begin_date=20160101&end_date=20181231&sort=oldest&api-key=zBxlhvG69zXIH0BooIEibFf56eJpv5Ny\n",
      "https://api.nytimes.com/svc/search/v2/articlesearch.json?fq=news_desk:Politics&begin_date=20160101&end_date=20181231&sort=oldest&api-key=zBxlhvG69zXIH0BooIEibFf56eJpv5Ny\n",
      "https://api.nytimes.com/svc/search/v2/articlesearch.json?fq=news_desk:Regionals&begin_date=20160101&end_date=20181231&sort=oldest&api-key=zBxlhvG69zXIH0BooIEibFf56eJpv5Ny\n",
      "https://api.nytimes.com/svc/search/v2/articlesearch.json?fq=news_desk:Retail&begin_date=20160101&end_date=20181231&sort=oldest&api-key=zBxlhvG69zXIH0BooIEibFf56eJpv5Ny\n",
      "https://api.nytimes.com/svc/search/v2/articlesearch.json?fq=news_desk:Retirement&begin_date=20160101&end_date=20181231&sort=oldest&api-key=zBxlhvG69zXIH0BooIEibFf56eJpv5Ny\n",
      "https://api.nytimes.com/svc/search/v2/articlesearch.json?fq=news_desk:Science&begin_date=20160101&end_date=20181231&sort=oldest&api-key=zBxlhvG69zXIH0BooIEibFf56eJpv5Ny\n",
      "https://api.nytimes.com/svc/search/v2/articlesearch.json?fq=news_desk:Small Business&begin_date=20160101&end_date=20181231&sort=oldest&api-key=zBxlhvG69zXIH0BooIEibFf56eJpv5Ny\n",
      "https://api.nytimes.com/svc/search/v2/articlesearch.json?fq=news_desk:Society&begin_date=20160101&end_date=20181231&sort=oldest&api-key=zBxlhvG69zXIH0BooIEibFf56eJpv5Ny\n",
      "https://api.nytimes.com/svc/search/v2/articlesearch.json?fq=news_desk:Sports&begin_date=20160101&end_date=20181231&sort=oldest&api-key=zBxlhvG69zXIH0BooIEibFf56eJpv5Ny\n",
      "https://api.nytimes.com/svc/search/v2/articlesearch.json?fq=news_desk:Style&begin_date=20160101&end_date=20181231&sort=oldest&api-key=zBxlhvG69zXIH0BooIEibFf56eJpv5Ny\n",
      "https://api.nytimes.com/svc/search/v2/articlesearch.json?fq=news_desk:Sunday Business&begin_date=20160101&end_date=20181231&sort=oldest&api-key=zBxlhvG69zXIH0BooIEibFf56eJpv5Ny\n",
      "https://api.nytimes.com/svc/search/v2/articlesearch.json?fq=news_desk:Sunday Review&begin_date=20160101&end_date=20181231&sort=oldest&api-key=zBxlhvG69zXIH0BooIEibFf56eJpv5Ny\n",
      "https://api.nytimes.com/svc/search/v2/articlesearch.json?fq=news_desk:Sunday Styles&begin_date=20160101&end_date=20181231&sort=oldest&api-key=zBxlhvG69zXIH0BooIEibFf56eJpv5Ny\n",
      "https://api.nytimes.com/svc/search/v2/articlesearch.json?fq=news_desk:T Magazine&begin_date=20160101&end_date=20181231&sort=oldest&api-key=zBxlhvG69zXIH0BooIEibFf56eJpv5Ny\n",
      "https://api.nytimes.com/svc/search/v2/articlesearch.json?fq=news_desk:T Style&begin_date=20160101&end_date=20181231&sort=oldest&api-key=zBxlhvG69zXIH0BooIEibFf56eJpv5Ny\n",
      "https://api.nytimes.com/svc/search/v2/articlesearch.json?fq=news_desk:Technology&begin_date=20160101&end_date=20181231&sort=oldest&api-key=zBxlhvG69zXIH0BooIEibFf56eJpv5Ny\n",
      "https://api.nytimes.com/svc/search/v2/articlesearch.json?fq=news_desk:Teens&begin_date=20160101&end_date=20181231&sort=oldest&api-key=zBxlhvG69zXIH0BooIEibFf56eJpv5Ny\n",
      "https://api.nytimes.com/svc/search/v2/articlesearch.json?fq=news_desk:Television&begin_date=20160101&end_date=20181231&sort=oldest&api-key=zBxlhvG69zXIH0BooIEibFf56eJpv5Ny\n",
      "https://api.nytimes.com/svc/search/v2/articlesearch.json?fq=news_desk:The Arts&begin_date=20160101&end_date=20181231&sort=oldest&api-key=zBxlhvG69zXIH0BooIEibFf56eJpv5Ny\n",
      "https://api.nytimes.com/svc/search/v2/articlesearch.json?fq=news_desk:The Business of Green&begin_date=20160101&end_date=20181231&sort=oldest&api-key=zBxlhvG69zXIH0BooIEibFf56eJpv5Ny\n",
      "https://api.nytimes.com/svc/search/v2/articlesearch.json?fq=news_desk:The City Desk&begin_date=20160101&end_date=20181231&sort=oldest&api-key=zBxlhvG69zXIH0BooIEibFf56eJpv5Ny\n",
      "https://api.nytimes.com/svc/search/v2/articlesearch.json?fq=news_desk:The City&begin_date=20160101&end_date=20181231&sort=oldest&api-key=zBxlhvG69zXIH0BooIEibFf56eJpv5Ny\n",
      "https://api.nytimes.com/svc/search/v2/articlesearch.json?fq=news_desk:The Marathon&begin_date=20160101&end_date=20181231&sort=oldest&api-key=zBxlhvG69zXIH0BooIEibFf56eJpv5Ny\n",
      "https://api.nytimes.com/svc/search/v2/articlesearch.json?fq=news_desk:The Millennium&begin_date=20160101&end_date=20181231&sort=oldest&api-key=zBxlhvG69zXIH0BooIEibFf56eJpv5Ny\n",
      "https://api.nytimes.com/svc/search/v2/articlesearch.json?fq=news_desk:The Natural World&begin_date=20160101&end_date=20181231&sort=oldest&api-key=zBxlhvG69zXIH0BooIEibFf56eJpv5Ny\n",
      "https://api.nytimes.com/svc/search/v2/articlesearch.json?fq=news_desk:The Upshot&begin_date=20160101&end_date=20181231&sort=oldest&api-key=zBxlhvG69zXIH0BooIEibFf56eJpv5Ny\n",
      "https://api.nytimes.com/svc/search/v2/articlesearch.json?fq=news_desk:The Weekend&begin_date=20160101&end_date=20181231&sort=oldest&api-key=zBxlhvG69zXIH0BooIEibFf56eJpv5Ny\n",
      "https://api.nytimes.com/svc/search/v2/articlesearch.json?fq=news_desk:The Year in Pictures&begin_date=20160101&end_date=20181231&sort=oldest&api-key=zBxlhvG69zXIH0BooIEibFf56eJpv5Ny\n",
      "https://api.nytimes.com/svc/search/v2/articlesearch.json?fq=news_desk:Theater&begin_date=20160101&end_date=20181231&sort=oldest&api-key=zBxlhvG69zXIH0BooIEibFf56eJpv5Ny\n",
      "https://api.nytimes.com/svc/search/v2/articlesearch.json?fq=news_desk:Then & Now&begin_date=20160101&end_date=20181231&sort=oldest&api-key=zBxlhvG69zXIH0BooIEibFf56eJpv5Ny\n",
      "https://api.nytimes.com/svc/search/v2/articlesearch.json?fq=news_desk:Thursday Styles&begin_date=20160101&end_date=20181231&sort=oldest&api-key=zBxlhvG69zXIH0BooIEibFf56eJpv5Ny\n",
      "https://api.nytimes.com/svc/search/v2/articlesearch.json?fq=news_desk:Times Topics&begin_date=20160101&end_date=20181231&sort=oldest&api-key=zBxlhvG69zXIH0BooIEibFf56eJpv5Ny\n",
      "https://api.nytimes.com/svc/search/v2/articlesearch.json?fq=news_desk:Travel&begin_date=20160101&end_date=20181231&sort=oldest&api-key=zBxlhvG69zXIH0BooIEibFf56eJpv5Ny\n",
      "https://api.nytimes.com/svc/search/v2/articlesearch.json?fq=news_desk:U.S.&begin_date=20160101&end_date=20181231&sort=oldest&api-key=zBxlhvG69zXIH0BooIEibFf56eJpv5Ny\n",
      "https://api.nytimes.com/svc/search/v2/articlesearch.json?fq=news_desk:Universal&begin_date=20160101&end_date=20181231&sort=oldest&api-key=zBxlhvG69zXIH0BooIEibFf56eJpv5Ny\n",
      "https://api.nytimes.com/svc/search/v2/articlesearch.json?fq=news_desk:Upshot&begin_date=20160101&end_date=20181231&sort=oldest&api-key=zBxlhvG69zXIH0BooIEibFf56eJpv5Ny\n",
      "https://api.nytimes.com/svc/search/v2/articlesearch.json?fq=news_desk:UrbanEye&begin_date=20160101&end_date=20181231&sort=oldest&api-key=zBxlhvG69zXIH0BooIEibFf56eJpv5Ny\n"
     ]
    },
    {
     "name": "stdout",
     "output_type": "stream",
     "text": [
      "https://api.nytimes.com/svc/search/v2/articlesearch.json?fq=news_desk:Vacation&begin_date=20160101&end_date=20181231&sort=oldest&api-key=zBxlhvG69zXIH0BooIEibFf56eJpv5Ny\n",
      "https://api.nytimes.com/svc/search/v2/articlesearch.json?fq=news_desk:Washington&begin_date=20160101&end_date=20181231&sort=oldest&api-key=zBxlhvG69zXIH0BooIEibFf56eJpv5Ny\n",
      "https://api.nytimes.com/svc/search/v2/articlesearch.json?fq=news_desk:Wealth&begin_date=20160101&end_date=20181231&sort=oldest&api-key=zBxlhvG69zXIH0BooIEibFf56eJpv5Ny\n",
      "https://api.nytimes.com/svc/search/v2/articlesearch.json?fq=news_desk:Weather&begin_date=20160101&end_date=20181231&sort=oldest&api-key=zBxlhvG69zXIH0BooIEibFf56eJpv5Ny\n",
      "https://api.nytimes.com/svc/search/v2/articlesearch.json?fq=news_desk:Week in Review&begin_date=20160101&end_date=20181231&sort=oldest&api-key=zBxlhvG69zXIH0BooIEibFf56eJpv5Ny\n",
      "https://api.nytimes.com/svc/search/v2/articlesearch.json?fq=news_desk:Week&begin_date=20160101&end_date=20181231&sort=oldest&api-key=zBxlhvG69zXIH0BooIEibFf56eJpv5Ny\n",
      "https://api.nytimes.com/svc/search/v2/articlesearch.json?fq=news_desk:Weekend&begin_date=20160101&end_date=20181231&sort=oldest&api-key=zBxlhvG69zXIH0BooIEibFf56eJpv5Ny\n",
      "https://api.nytimes.com/svc/search/v2/articlesearch.json?fq=news_desk:Westchester&begin_date=20160101&end_date=20181231&sort=oldest&api-key=zBxlhvG69zXIH0BooIEibFf56eJpv5Ny\n",
      "https://api.nytimes.com/svc/search/v2/articlesearch.json?fq=news_desk:Wireless Living&begin_date=20160101&end_date=20181231&sort=oldest&api-key=zBxlhvG69zXIH0BooIEibFf56eJpv5Ny\n",
      "https://api.nytimes.com/svc/search/v2/articlesearch.json?fq=news_desk:Women%27s%20Health&begin_date=20160101&end_date=20181231&sort=oldest&api-key=zBxlhvG69zXIH0BooIEibFf56eJpv5Ny\n",
      "https://api.nytimes.com/svc/search/v2/articlesearch.json?fq=news_desk:Working&begin_date=20160101&end_date=20181231&sort=oldest&api-key=zBxlhvG69zXIH0BooIEibFf56eJpv5Ny\n",
      "https://api.nytimes.com/svc/search/v2/articlesearch.json?fq=news_desk:Workplace&begin_date=20160101&end_date=20181231&sort=oldest&api-key=zBxlhvG69zXIH0BooIEibFf56eJpv5Ny\n",
      "https://api.nytimes.com/svc/search/v2/articlesearch.json?fq=news_desk:World&begin_date=20160101&end_date=20181231&sort=oldest&api-key=zBxlhvG69zXIH0BooIEibFf56eJpv5Ny\n",
      "https://api.nytimes.com/svc/search/v2/articlesearch.json?fq=news_desk:Your Money&begin_date=20160101&end_date=20181231&sort=oldest&api-key=zBxlhvG69zXIH0BooIEibFf56eJpv5Ny\n",
      "After: Fri Mar 22 11:35:52 2019\n",
      "\n"
     ]
    },
    {
     "data": {
      "text/plain": [
       "{'Adventure Sports': 10070}"
      ]
     },
     "execution_count": 25,
     "metadata": {},
     "output_type": "execute_result"
    }
   ],
   "source": [
    "print('Before: %s' % time.ctime())\n",
    "print('Expected waiting time %s mins\\n' % (len(newsDesk)*6/60))\n",
    "\n",
    "newsDeskCounts = [] # list of dic\n",
    "\n",
    "for i in newsDesk:\n",
    "    i = i.strip()\n",
    "    url = api_site + desk + str(i) + '&' + dates + '&sort=oldest' + '&' + api_key\n",
    "    print(url)\n",
    "    response = urllib.request.urlopen(url)\n",
    "    articles = json.loads(response.read())\n",
    "\n",
    "    dic = {}\n",
    "    dic[i] = articles['response']['meta']['hits']\n",
    "    newsDeskCounts.append(dic)\n",
    "\n",
    "    # Sleep 6 second to avoid \"Exceeded Request Quota\" error\n",
    "    # 10 REQUESTS PER MINUTE\n",
    "    time.sleep(6)\n",
    "\n",
    "print('After: %s\\n' % time.ctime())    \n",
    "\n",
    "newsDeskCounts[-1] # list of dictionaries # 1st articles"
   ]
  },
  {
   "cell_type": "code",
   "execution_count": 36,
   "metadata": {},
   "outputs": [
    {
     "name": "stdout",
     "output_type": "stream",
     "text": [
      "Before: Fri Mar 22 14:46:22 2019\n",
      "Expected waiting time 6.9 mins\n",
      "\n",
      "https://api.nytimes.com/svc/search/v2/articlesearch.json?fq=section_name:Arts&begin_date=20160101&end_date=20181231&sort=oldest&api-key=zBxlhvG69zXIH0BooIEibFf56eJpv5Ny\n",
      "https://api.nytimes.com/svc/search/v2/articlesearch.json?fq=section_name:Automobiles&begin_date=20160101&end_date=20181231&sort=oldest&api-key=zBxlhvG69zXIH0BooIEibFf56eJpv5Ny\n",
      "https://api.nytimes.com/svc/search/v2/articlesearch.json?fq=section_name:Autos&begin_date=20160101&end_date=20181231&sort=oldest&api-key=zBxlhvG69zXIH0BooIEibFf56eJpv5Ny\n",
      "https://api.nytimes.com/svc/search/v2/articlesearch.json?fq=section_name:Blogs&begin_date=20160101&end_date=20181231&sort=oldest&api-key=zBxlhvG69zXIH0BooIEibFf56eJpv5Ny\n",
      "https://api.nytimes.com/svc/search/v2/articlesearch.json?fq=section_name:Books&begin_date=20160101&end_date=20181231&sort=oldest&api-key=zBxlhvG69zXIH0BooIEibFf56eJpv5Ny\n",
      "https://api.nytimes.com/svc/search/v2/articlesearch.json?fq=section_name:Booming&begin_date=20160101&end_date=20181231&sort=oldest&api-key=zBxlhvG69zXIH0BooIEibFf56eJpv5Ny\n",
      "https://api.nytimes.com/svc/search/v2/articlesearch.json?fq=section_name:Business&begin_date=20160101&end_date=20181231&sort=oldest&api-key=zBxlhvG69zXIH0BooIEibFf56eJpv5Ny\n",
      "https://api.nytimes.com/svc/search/v2/articlesearch.json?fq=section_name:Business Day&begin_date=20160101&end_date=20181231&sort=oldest&api-key=zBxlhvG69zXIH0BooIEibFf56eJpv5Ny\n",
      "https://api.nytimes.com/svc/search/v2/articlesearch.json?fq=section_name:Corrections&begin_date=20160101&end_date=20181231&sort=oldest&api-key=zBxlhvG69zXIH0BooIEibFf56eJpv5Ny\n",
      "https://api.nytimes.com/svc/search/v2/articlesearch.json?fq=section_name:Crosswords & Games&begin_date=20160101&end_date=20181231&sort=oldest&api-key=zBxlhvG69zXIH0BooIEibFf56eJpv5Ny\n",
      "https://api.nytimes.com/svc/search/v2/articlesearch.json?fq=section_name:Crosswords%20Games&begin_date=20160101&end_date=20181231&sort=oldest&api-key=zBxlhvG69zXIH0BooIEibFf56eJpv5Ny\n",
      "https://api.nytimes.com/svc/search/v2/articlesearch.json?fq=section_name:Dining & Wine&begin_date=20160101&end_date=20181231&sort=oldest&api-key=zBxlhvG69zXIH0BooIEibFf56eJpv5Ny\n",
      "https://api.nytimes.com/svc/search/v2/articlesearch.json?fq=section_name:Dining and Wine&begin_date=20160101&end_date=20181231&sort=oldest&api-key=zBxlhvG69zXIH0BooIEibFf56eJpv5Ny\n",
      "https://api.nytimes.com/svc/search/v2/articlesearch.json?fq=section_name:Editors%20Notes&begin_date=20160101&end_date=20181231&sort=oldest&api-key=zBxlhvG69zXIH0BooIEibFf56eJpv5Ny\n",
      "https://api.nytimes.com/svc/search/v2/articlesearch.json?fq=section_name:Education&begin_date=20160101&end_date=20181231&sort=oldest&api-key=zBxlhvG69zXIH0BooIEibFf56eJpv5Ny\n",
      "https://api.nytimes.com/svc/search/v2/articlesearch.json?fq=section_name:Fashion & Style&begin_date=20160101&end_date=20181231&sort=oldest&api-key=zBxlhvG69zXIH0BooIEibFf56eJpv5Ny\n",
      "https://api.nytimes.com/svc/search/v2/articlesearch.json?fq=section_name:Food&begin_date=20160101&end_date=20181231&sort=oldest&api-key=zBxlhvG69zXIH0BooIEibFf56eJpv5Ny\n",
      "https://api.nytimes.com/svc/search/v2/articlesearch.json?fq=section_name:Front Page&begin_date=20160101&end_date=20181231&sort=oldest&api-key=zBxlhvG69zXIH0BooIEibFf56eJpv5Ny\n",
      "https://api.nytimes.com/svc/search/v2/articlesearch.json?fq=section_name:Giving&begin_date=20160101&end_date=20181231&sort=oldest&api-key=zBxlhvG69zXIH0BooIEibFf56eJpv5Ny\n",
      "https://api.nytimes.com/svc/search/v2/articlesearch.json?fq=section_name:Global%20Home&begin_date=20160101&end_date=20181231&sort=oldest&api-key=zBxlhvG69zXIH0BooIEibFf56eJpv5Ny\n",
      "https://api.nytimes.com/svc/search/v2/articlesearch.json?fq=section_name:Great%20Homes%20&%20Destinations&begin_date=20160101&end_date=20181231&sort=oldest&api-key=zBxlhvG69zXIH0BooIEibFf56eJpv5Ny\n",
      "https://api.nytimes.com/svc/search/v2/articlesearch.json?fq=section_name:Great%20Homes%20and%20Destinations&begin_date=20160101&end_date=20181231&sort=oldest&api-key=zBxlhvG69zXIH0BooIEibFf56eJpv5Ny\n",
      "https://api.nytimes.com/svc/search/v2/articlesearch.json?fq=section_name:Health&begin_date=20160101&end_date=20181231&sort=oldest&api-key=zBxlhvG69zXIH0BooIEibFf56eJpv5Ny\n",
      "https://api.nytimes.com/svc/search/v2/articlesearch.json?fq=section_name:Home%20&%20Garden&begin_date=20160101&end_date=20181231&sort=oldest&api-key=zBxlhvG69zXIH0BooIEibFf56eJpv5Ny\n",
      "https://api.nytimes.com/svc/search/v2/articlesearch.json?fq=section_name:Home and Garden&begin_date=20160101&end_date=20181231&sort=oldest&api-key=zBxlhvG69zXIH0BooIEibFf56eJpv5Ny\n",
      "https://api.nytimes.com/svc/search/v2/articlesearch.json?fq=section_name:International%20Home&begin_date=20160101&end_date=20181231&sort=oldest&api-key=zBxlhvG69zXIH0BooIEibFf56eJpv5Ny\n",
      "https://api.nytimes.com/svc/search/v2/articlesearch.json?fq=section_name:Job Market&begin_date=20160101&end_date=20181231&sort=oldest&api-key=zBxlhvG69zXIH0BooIEibFf56eJpv5Ny\n",
      "https://api.nytimes.com/svc/search/v2/articlesearch.json?fq=section_name:Learning&begin_date=20160101&end_date=20181231&sort=oldest&api-key=zBxlhvG69zXIH0BooIEibFf56eJpv5Ny\n",
      "https://api.nytimes.com/svc/search/v2/articlesearch.json?fq=section_name:Magazine&begin_date=20160101&end_date=20181231&sort=oldest&api-key=zBxlhvG69zXIH0BooIEibFf56eJpv5Ny\n",
      "https://api.nytimes.com/svc/search/v2/articlesearch.json?fq=section_name:Movies&begin_date=20160101&end_date=20181231&sort=oldest&api-key=zBxlhvG69zXIH0BooIEibFf56eJpv5Ny\n",
      "https://api.nytimes.com/svc/search/v2/articlesearch.json?fq=section_name:Multimedia&begin_date=20160101&end_date=20181231&sort=oldest&api-key=zBxlhvG69zXIH0BooIEibFf56eJpv5Ny\n",
      "https://api.nytimes.com/svc/search/v2/articlesearch.json?fq=section_name:Multimedia%20Photos&begin_date=20160101&end_date=20181231&sort=oldest&api-key=zBxlhvG69zXIH0BooIEibFf56eJpv5Ny\n",
      "https://api.nytimes.com/svc/search/v2/articlesearch.json?fq=section_name:N.Y. %20 Region&begin_date=20160101&end_date=20181231&sort=oldest&api-key=zBxlhvG69zXIH0BooIEibFf56eJpv5Ny\n",
      "https://api.nytimes.com/svc/search/v2/articlesearch.json?fq=section_name:N.Y.%20Region&begin_date=20160101&end_date=20181231&sort=oldest&api-key=zBxlhvG69zXIH0BooIEibFf56eJpv5Ny\n",
      "https://api.nytimes.com/svc/search/v2/articlesearch.json?fq=section_name:NYRegion&begin_date=20160101&end_date=20181231&sort=oldest&api-key=zBxlhvG69zXIH0BooIEibFf56eJpv5Ny\n",
      "https://api.nytimes.com/svc/search/v2/articlesearch.json?fq=section_name:NYT Now&begin_date=20160101&end_date=20181231&sort=oldest&api-key=zBxlhvG69zXIH0BooIEibFf56eJpv5Ny\n",
      "https://api.nytimes.com/svc/search/v2/articlesearch.json?fq=section_name:National&begin_date=20160101&end_date=20181231&sort=oldest&api-key=zBxlhvG69zXIH0BooIEibFf56eJpv5Ny\n",
      "https://api.nytimes.com/svc/search/v2/articlesearch.json?fq=section_name:New York&begin_date=20160101&end_date=20181231&sort=oldest&api-key=zBxlhvG69zXIH0BooIEibFf56eJpv5Ny\n",
      "https://api.nytimes.com/svc/search/v2/articlesearch.json?fq=section_name:New York and Region&begin_date=20160101&end_date=20181231&sort=oldest&api-key=zBxlhvG69zXIH0BooIEibFf56eJpv5Ny\n",
      "https://api.nytimes.com/svc/search/v2/articlesearch.json?fq=section_name:Obituaries&begin_date=20160101&end_date=20181231&sort=oldest&api-key=zBxlhvG69zXIH0BooIEibFf56eJpv5Ny\n",
      "https://api.nytimes.com/svc/search/v2/articlesearch.json?fq=section_name:Olympics&begin_date=20160101&end_date=20181231&sort=oldest&api-key=zBxlhvG69zXIH0BooIEibFf56eJpv5Ny\n",
      "https://api.nytimes.com/svc/search/v2/articlesearch.json?fq=section_name:Open&begin_date=20160101&end_date=20181231&sort=oldest&api-key=zBxlhvG69zXIH0BooIEibFf56eJpv5Ny\n",
      "https://api.nytimes.com/svc/search/v2/articlesearch.json?fq=section_name:Opinion&begin_date=20160101&end_date=20181231&sort=oldest&api-key=zBxlhvG69zXIH0BooIEibFf56eJpv5Ny\n",
      "https://api.nytimes.com/svc/search/v2/articlesearch.json?fq=section_name:Paid Death Notices&begin_date=20160101&end_date=20181231&sort=oldest&api-key=zBxlhvG69zXIH0BooIEibFf56eJpv5Ny\n",
      "https://api.nytimes.com/svc/search/v2/articlesearch.json?fq=section_name:Public Editor&begin_date=20160101&end_date=20181231&sort=oldest&api-key=zBxlhvG69zXIH0BooIEibFf56eJpv5Ny\n",
      "https://api.nytimes.com/svc/search/v2/articlesearch.json?fq=section_name:Real Estate&begin_date=20160101&end_date=20181231&sort=oldest&api-key=zBxlhvG69zXIH0BooIEibFf56eJpv5Ny\n"
     ]
    },
    {
     "name": "stdout",
     "output_type": "stream",
     "text": [
      "https://api.nytimes.com/svc/search/v2/articlesearch.json?fq=section_name:Science&begin_date=20160101&end_date=20181231&sort=oldest&api-key=zBxlhvG69zXIH0BooIEibFf56eJpv5Ny\n",
      "https://api.nytimes.com/svc/search/v2/articlesearch.json?fq=section_name:Sports&begin_date=20160101&end_date=20181231&sort=oldest&api-key=zBxlhvG69zXIH0BooIEibFf56eJpv5Ny\n",
      "https://api.nytimes.com/svc/search/v2/articlesearch.json?fq=section_name:Style&begin_date=20160101&end_date=20181231&sort=oldest&api-key=zBxlhvG69zXIH0BooIEibFf56eJpv5Ny\n",
      "https://api.nytimes.com/svc/search/v2/articlesearch.json?fq=section_name:Sunday Magazine&begin_date=20160101&end_date=20181231&sort=oldest&api-key=zBxlhvG69zXIH0BooIEibFf56eJpv5Ny\n",
      "https://api.nytimes.com/svc/search/v2/articlesearch.json?fq=section_name:Sunday Review&begin_date=20160101&end_date=20181231&sort=oldest&api-key=zBxlhvG69zXIH0BooIEibFf56eJpv5Ny\n",
      "https://api.nytimes.com/svc/search/v2/articlesearch.json?fq=section_name:T Magazine&begin_date=20160101&end_date=20181231&sort=oldest&api-key=zBxlhvG69zXIH0BooIEibFf56eJpv5Ny\n",
      "https://api.nytimes.com/svc/search/v2/articlesearch.json?fq=section_name:TStyle&begin_date=20160101&end_date=20181231&sort=oldest&api-key=zBxlhvG69zXIH0BooIEibFf56eJpv5Ny\n",
      "https://api.nytimes.com/svc/search/v2/articlesearch.json?fq=section_name:Technology&begin_date=20160101&end_date=20181231&sort=oldest&api-key=zBxlhvG69zXIH0BooIEibFf56eJpv5Ny\n",
      "https://api.nytimes.com/svc/search/v2/articlesearch.json?fq=section_name:The Public Editor&begin_date=20160101&end_date=20181231&sort=oldest&api-key=zBxlhvG69zXIH0BooIEibFf56eJpv5Ny\n",
      "https://api.nytimes.com/svc/search/v2/articlesearch.json?fq=section_name:The Upshot&begin_date=20160101&end_date=20181231&sort=oldest&api-key=zBxlhvG69zXIH0BooIEibFf56eJpv5Ny\n",
      "https://api.nytimes.com/svc/search/v2/articlesearch.json?fq=section_name:Theater&begin_date=20160101&end_date=20181231&sort=oldest&api-key=zBxlhvG69zXIH0BooIEibFf56eJpv5Ny\n",
      "https://api.nytimes.com/svc/search/v2/articlesearch.json?fq=section_name:Times Topics&begin_date=20160101&end_date=20181231&sort=oldest&api-key=zBxlhvG69zXIH0BooIEibFf56eJpv5Ny\n",
      "https://api.nytimes.com/svc/search/v2/articlesearch.json?fq=section_name:TimesMachine&begin_date=20160101&end_date=20181231&sort=oldest&api-key=zBxlhvG69zXIH0BooIEibFf56eJpv5Ny\n",
      "https://api.nytimes.com/svc/search/v2/articlesearch.json?fq=section_name:Today%27s%20Headlines&begin_date=20160101&end_date=20181231&sort=oldest&api-key=zBxlhvG69zXIH0BooIEibFf56eJpv5Ny\n",
      "https://api.nytimes.com/svc/search/v2/articlesearch.json?fq=section_name:Topics&begin_date=20160101&end_date=20181231&sort=oldest&api-key=zBxlhvG69zXIH0BooIEibFf56eJpv5Ny\n",
      "https://api.nytimes.com/svc/search/v2/articlesearch.json?fq=section_name:Travel&begin_date=20160101&end_date=20181231&sort=oldest&api-key=zBxlhvG69zXIH0BooIEibFf56eJpv5Ny\n",
      "https://api.nytimes.com/svc/search/v2/articlesearch.json?fq=section_name:U.S.&begin_date=20160101&end_date=20181231&sort=oldest&api-key=zBxlhvG69zXIH0BooIEibFf56eJpv5Ny\n",
      "https://api.nytimes.com/svc/search/v2/articlesearch.json?fq=section_name:Universal&begin_date=20160101&end_date=20181231&sort=oldest&api-key=zBxlhvG69zXIH0BooIEibFf56eJpv5Ny\n",
      "https://api.nytimes.com/svc/search/v2/articlesearch.json?fq=section_name:UrbanEye&begin_date=20160101&end_date=20181231&sort=oldest&api-key=zBxlhvG69zXIH0BooIEibFf56eJpv5Ny\n",
      "https://api.nytimes.com/svc/search/v2/articlesearch.json?fq=section_name:Washington&begin_date=20160101&end_date=20181231&sort=oldest&api-key=zBxlhvG69zXIH0BooIEibFf56eJpv5Ny\n",
      "https://api.nytimes.com/svc/search/v2/articlesearch.json?fq=section_name:Week in Review&begin_date=20160101&end_date=20181231&sort=oldest&api-key=zBxlhvG69zXIH0BooIEibFf56eJpv5Ny\n",
      "https://api.nytimes.com/svc/search/v2/articlesearch.json?fq=section_name:World&begin_date=20160101&end_date=20181231&sort=oldest&api-key=zBxlhvG69zXIH0BooIEibFf56eJpv5Ny\n",
      "https://api.nytimes.com/svc/search/v2/articlesearch.json?fq=section_name:Your Money&begin_date=20160101&end_date=20181231&sort=oldest&api-key=zBxlhvG69zXIH0BooIEibFf56eJpv5Ny\n",
      "After: Fri Mar 22 14:53:48 2019\n",
      "\n"
     ]
    },
    {
     "data": {
      "text/plain": [
       "{'Your Money': 31559}"
      ]
     },
     "execution_count": 36,
     "metadata": {},
     "output_type": "execute_result"
    }
   ],
   "source": [
    "print('Before: %s' % time.ctime())\n",
    "print('Expected waiting time %s mins\\n' % (len(sectionNV)*6/60))\n",
    "\n",
    "SectionCounts = [] # list of dic\n",
    "\n",
    "for i in sectionNV:\n",
    "    i = i.strip()\n",
    "    url = api_site + section + str(i) + '&' + dates + '&sort=oldest' + '&' + api_key\n",
    "    print(url)\n",
    "    response = urllib.request.urlopen(url)\n",
    "    articles = json.loads(response.read())\n",
    "\n",
    "    dic = {}\n",
    "    dic[i] = articles['response']['meta']['hits']\n",
    "    SectionCounts.append(dic)\n",
    "\n",
    "    # Sleep 6 second to avoid \"Exceeded Request Quota\" error\n",
    "    # 10 REQUESTS PER MINUTE\n",
    "    time.sleep(6)\n",
    "\n",
    "print('After: %s\\n' % time.ctime())    \n",
    "\n",
    "SectionCounts[-1] # list of dictionaries # 1st articles"
   ]
  },
  {
   "cell_type": "code",
   "execution_count": 37,
   "metadata": {},
   "outputs": [
    {
     "data": {
      "text/plain": [
       "'110 News Desks for period begin_date=20160101&end_date=20181231'"
      ]
     },
     "execution_count": 37,
     "metadata": {},
     "output_type": "execute_result"
    }
   ],
   "source": [
    "'{} News Desks for period {}'.format(len(newsDeskCounts),dates)\n",
    "# number of articles"
   ]
  },
  {
   "cell_type": "code",
   "execution_count": 38,
   "metadata": {},
   "outputs": [
    {
     "data": {
      "text/plain": [
       "'69 sections for period begin_date=20160101&end_date=20181231'"
      ]
     },
     "execution_count": 38,
     "metadata": {},
     "output_type": "execute_result"
    }
   ],
   "source": [
    "'{} sections for period {}'.format(len(SectionCounts),dates)\n",
    "# number of articles"
   ]
  },
  {
   "cell_type": "code",
   "execution_count": 39,
   "metadata": {},
   "outputs": [
    {
     "data": {
      "text/plain": [
       "['Adventure Sports']"
      ]
     },
     "execution_count": 39,
     "metadata": {},
     "output_type": "execute_result"
    }
   ],
   "source": [
    "list(newsDeskCounts[0].keys())"
   ]
  },
  {
   "cell_type": "code",
   "execution_count": 77,
   "metadata": {},
   "outputs": [
    {
     "data": {
      "text/plain": [
       "10070"
      ]
     },
     "execution_count": 77,
     "metadata": {},
     "output_type": "execute_result"
    }
   ],
   "source": [
    "newsDeskCounts[0][''.join(newsDeskCounts[0].keys())]"
   ]
  },
  {
   "cell_type": "code",
   "execution_count": null,
   "metadata": {},
   "outputs": [],
   "source": []
  },
  {
   "cell_type": "code",
   "execution_count": 81,
   "metadata": {},
   "outputs": [],
   "source": [
    "file = open('newsDeskCounts.txt','w')\n",
    "file.write('News Desk')\n",
    "file.write('\\t')\n",
    "file.write('Count')\n",
    "file.write('\\n')\n",
    "\n",
    "for i in range(0,len(newsDeskCounts)):\n",
    "    file.write(''.join(newsDeskCounts[i].keys()))\n",
    "    file.write('\\t')\n",
    "    file.write(str(newsDeskCounts[i][''.join(newsDeskCounts[i].keys())]))\n",
    "    file.write('\\n')\n",
    "file.close()"
   ]
  },
  {
   "cell_type": "code",
   "execution_count": 83,
   "metadata": {},
   "outputs": [],
   "source": [
    "file = open('SectionCounts.txt','w')\n",
    "file.write('Section')\n",
    "file.write('\\t')\n",
    "file.write('Count')\n",
    "file.write('\\n')\n",
    "\n",
    "for i in range(0,len(SectionCounts)):\n",
    "    file.write(''.join(SectionCounts[i].keys()))\n",
    "    file.write('\\t')\n",
    "    file.write(str(SectionCounts[i][''.join(SectionCounts[i].keys())]))\n",
    "    file.write('\\n')\n",
    "file.close()"
   ]
  },
  {
   "cell_type": "code",
   "execution_count": null,
   "metadata": {},
   "outputs": [],
   "source": []
  },
  {
   "cell_type": "code",
   "execution_count": null,
   "metadata": {},
   "outputs": [],
   "source": []
  },
  {
   "cell_type": "code",
   "execution_count": null,
   "metadata": {},
   "outputs": [],
   "source": []
  }
 ],
 "metadata": {
  "kernelspec": {
   "display_name": "Python 3",
   "language": "python",
   "name": "python3"
  },
  "language_info": {
   "codemirror_mode": {
    "name": "ipython",
    "version": 3
   },
   "file_extension": ".py",
   "mimetype": "text/x-python",
   "name": "python",
   "nbconvert_exporter": "python",
   "pygments_lexer": "ipython3",
   "version": "3.6.3"
  }
 },
 "nbformat": 4,
 "nbformat_minor": 2
}
